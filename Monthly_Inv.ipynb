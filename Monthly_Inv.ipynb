{
 "cells": [
  {
   "cell_type": "markdown",
   "id": "85ad7625",
   "metadata": {},
   "source": [
    "### OCI Data Science - Useful Tips\n",
    "<details>\n",
    "<summary><font size=\"2\">Check for Public Internet Access</font></summary>\n",
    "\n",
    "```python\n",
    "import requests\n",
    "response = requests.get(\"https://oracle.com\")\n",
    "assert response.status_code==200, \"Internet connection failed\"\n",
    "```\n",
    "</details>\n",
    "<details>\n",
    "<summary><font size=\"2\">Helpful Documentation </font></summary>\n",
    "<ul><li><a href=\"https://docs.cloud.oracle.com/en-us/iaas/data-science/using/data-science.htm\">Data Science Service Documentation</a></li>\n",
    "<li><a href=\"https://docs.cloud.oracle.com/iaas/tools/ads-sdk/latest/index.html\">ADS documentation</a></li>\n",
    "</ul>\n",
    "</details>\n",
    "<details>\n",
    "<summary><font size=\"2\">Typical Cell Imports and Settings for ADS</font></summary>\n",
    "\n",
    "```python\n",
    "%load_ext autoreload\n",
    "%autoreload 2\n",
    "%matplotlib inline\n",
    "\n",
    "import warnings\n",
    "warnings.filterwarnings('ignore')\n",
    "\n",
    "import logging\n",
    "logging.basicConfig(format='%(levelname)s:%(message)s', level=logging.ERROR)\n",
    "\n",
    "import ads\n",
    "from ads.dataset.factory import DatasetFactory\n",
    "from ads.automl.provider import OracleAutoMLProvider\n",
    "from ads.automl.driver import AutoML\n",
    "from ads.evaluations.evaluator import ADSEvaluator\n",
    "from ads.common.data import ADSData\n",
    "from ads.explanations.explainer import ADSExplainer\n",
    "from ads.explanations.mlx_global_explainer import MLXGlobalExplainer\n",
    "from ads.explanations.mlx_local_explainer import MLXLocalExplainer\n",
    "from ads.catalog.model import ModelCatalog\n",
    "from ads.common.model_artifact import ModelArtifact\n",
    "```\n",
    "</details>\n",
    "<details>\n",
    "<summary><font size=\"2\">Useful Environment Variables</font></summary>\n",
    "\n",
    "```python\n",
    "import os\n",
    "print(os.environ[\"NB_SESSION_COMPARTMENT_OCID\"])\n",
    "print(os.environ[\"PROJECT_OCID\"])\n",
    "print(os.environ[\"USER_OCID\"])\n",
    "print(os.environ[\"TENANCY_OCID\"])\n",
    "print(os.environ[\"NB_REGION\"])\n",
    "```\n",
    "</details>"
   ]
  },
  {
   "cell_type": "code",
   "execution_count": null,
   "id": "e9341bce",
   "metadata": {},
   "outputs": [],
   "source": [
    "#!pip install pandas\n",
    "import pandas as pd\n",
    "import oci"
   ]
  },
  {
   "cell_type": "markdown",
   "id": "6ffa2be4",
   "metadata": {},
   "source": [
    "This is a EDA on PPE Monthly Billing"
   ]
  },
  {
   "cell_type": "code",
   "execution_count": null,
   "id": "819f068d",
   "metadata": {},
   "outputs": [],
   "source": [
    "inv = pd.read_csv('Natd.csv',delimiter=',')"
   ]
  },
  {
   "cell_type": "code",
   "execution_count": null,
   "id": "f970597a",
   "metadata": {},
   "outputs": [],
   "source": [
    "inv.shape"
   ]
  },
  {
   "cell_type": "code",
   "execution_count": null,
   "id": "89514001",
   "metadata": {},
   "outputs": [],
   "source": [
    "inv.head(10)"
   ]
  },
  {
   "cell_type": "code",
   "execution_count": null,
   "id": "b37ca73b",
   "metadata": {},
   "outputs": [],
   "source": [
    "inv.drop('currency',axis=1,inplace=True)"
   ]
  },
  {
   "cell_type": "code",
   "execution_count": null,
   "id": "75bdabcc",
   "metadata": {},
   "outputs": [],
   "source": [
    "inv.head(10)"
   ]
  },
  {
   "cell_type": "code",
   "execution_count": null,
   "id": "af395fdb",
   "metadata": {},
   "outputs": [],
   "source": [
    "inv['cost'] = inv['cost'].apply(lambda x:round(x,2))"
   ]
  },
  {
   "cell_type": "code",
   "execution_count": null,
   "id": "f3489eca",
   "metadata": {},
   "outputs": [],
   "source": [
    "inv['quantity'] = inv['quantity'].apply(lambda x:round(x,2))"
   ]
  },
  {
   "cell_type": "code",
   "execution_count": null,
   "id": "90a0de36",
   "metadata": {},
   "outputs": [],
   "source": [
    "inv.head(10)"
   ]
  },
  {
   "cell_type": "code",
   "execution_count": null,
   "id": "b56a9947",
   "metadata": {},
   "outputs": [],
   "source": [
    "zeroVal = inv[(inv['cost'] == 0) & (inv['quantity'] == 0)].index"
   ]
  },
  {
   "cell_type": "code",
   "execution_count": null,
   "id": "67292b0c",
   "metadata": {},
   "outputs": [],
   "source": [
    "inv.drop(zeroVal, inplace=True)\n"
   ]
  },
  {
   "cell_type": "code",
   "execution_count": null,
   "id": "839a78a1",
   "metadata": {},
   "outputs": [],
   "source": [
    "inv.head(10)"
   ]
  },
  {
   "cell_type": "code",
   "execution_count": null,
   "id": "5567c096",
   "metadata": {},
   "outputs": [],
   "source": [
    "inv.shape"
   ]
  },
  {
   "cell_type": "code",
   "execution_count": null,
   "id": "831affe2",
   "metadata": {},
   "outputs": [],
   "source": [
    "inv['cust_cost'] = inv.cost*(1.05)"
   ]
  },
  {
   "cell_type": "code",
   "execution_count": null,
   "id": "878d03e9",
   "metadata": {},
   "outputs": [],
   "source": [
    "inv.head(10)"
   ]
  },
  {
   "cell_type": "code",
   "execution_count": null,
   "id": "7527f715",
   "metadata": {},
   "outputs": [],
   "source": [
    "#inv.drop([\"cost\",\"time_usage_started\",\"time_usage_ended\"], axis=1, inplace=True)"
   ]
  },
  {
   "cell_type": "code",
   "execution_count": null,
   "id": "ef827f9f",
   "metadata": {},
   "outputs": [],
   "source": [
    "Monthly_Inv_Cost = inv.cost.sum() \n"
   ]
  },
  {
   "cell_type": "code",
   "execution_count": null,
   "id": "4b6f2492",
   "metadata": {},
   "outputs": [],
   "source": [
    "Monthly_Inv_Cost"
   ]
  },
  {
   "cell_type": "code",
   "execution_count": null,
   "id": "6f2a55ff",
   "metadata": {},
   "outputs": [],
   "source": [
    "#inv.head(10)"
   ]
  },
  {
   "cell_type": "code",
   "execution_count": null,
   "id": "d410c1bc",
   "metadata": {},
   "outputs": [],
   "source": [
    "#inv.drop([\"cost\",\"time_usage_started\",\"time_usage_ended\"], axis=1, inplace=True)"
   ]
  },
  {
   "cell_type": "code",
   "execution_count": null,
   "id": "40b25491",
   "metadata": {},
   "outputs": [],
   "source": [
    "inv.to_csv('Natd_Cust_inv.csv', index=False, header=True)"
   ]
  },
  {
   "cell_type": "code",
   "execution_count": null,
   "id": "5b3bb88f",
   "metadata": {},
   "outputs": [],
   "source": [
    "anaDF = inv[(inv['sku_name'].str.contains('Oracle Analytics Cloud'))]\n",
    "#anaDF = inv[(inv['sku_name'].str.contains('Block Volume'))]\n"
   ]
  },
  {
   "cell_type": "code",
   "execution_count": null,
   "id": "4ed12312",
   "metadata": {},
   "outputs": [],
   "source": [
    "Monthly_Ana_Cost = anaDF.cost.sum() "
   ]
  },
  {
   "cell_type": "code",
   "execution_count": null,
   "id": "d518f18c",
   "metadata": {},
   "outputs": [],
   "source": [
    "anaDF"
   ]
  },
  {
   "cell_type": "code",
   "execution_count": null,
   "id": "6961b32f",
   "metadata": {},
   "outputs": [],
   "source": [
    "Monthly_Ana_Cost"
   ]
  },
  {
   "cell_type": "code",
   "execution_count": null,
   "id": "04d421ef",
   "metadata": {},
   "outputs": [],
   "source": []
  }
 ],
 "metadata": {
  "kernelspec": {
   "display_name": "Python 3 (ipykernel)",
   "language": "python",
   "name": "python3"
  },
  "language_info": {
   "codemirror_mode": {
    "name": "ipython",
    "version": 3
   },
   "file_extension": ".py",
   "mimetype": "text/x-python",
   "name": "python",
   "nbconvert_exporter": "python",
   "pygments_lexer": "ipython3",
   "version": "3.8.15"
  }
 },
 "nbformat": 4,
 "nbformat_minor": 5
}
